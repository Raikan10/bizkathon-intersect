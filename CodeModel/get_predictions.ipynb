{
 "cells": [
  {
   "cell_type": "code",
   "execution_count": 1,
   "metadata": {},
   "outputs": [],
   "source": [
    "import pandas as pd \n",
    "# Read data from file 'filename.csv' \n",
    "# (in the same directory that your python process is based)\n",
    "# Control delimiters, rows, column names with read_csv (see later) \n",
    "import tensorflow \n",
    "import numpy as np"
   ]
  },
  {
   "cell_type": "code",
   "execution_count": 2,
   "metadata": {},
   "outputs": [],
   "source": [
    "data = pd.read_csv(\"marketvindustry.csv\") "
   ]
  },
  {
   "cell_type": "code",
   "execution_count": 3,
   "metadata": {},
   "outputs": [],
   "source": [
    "new_model1 = tensorflow.keras.models.load_model('my_model.h5')"
   ]
  },
  {
   "cell_type": "code",
   "execution_count": 15,
   "metadata": {},
   "outputs": [],
   "source": [
    "new_model2 = tensorflow.keras.models.load_model('my_model.h6')"
   ]
  },
  {
   "cell_type": "code",
   "execution_count": 4,
   "metadata": {},
   "outputs": [],
   "source": [
    "from sklearn.preprocessing import MinMaxScaler\n",
    "scale = MinMaxScaler(feature_range=(-1,1))\n"
   ]
  },
  {
   "cell_type": "code",
   "execution_count": 5,
   "metadata": {},
   "outputs": [
    {
     "name": "stdout",
     "output_type": "stream",
     "text": [
      "importing Jupyter notebook from lstm.ipynb\n"
     ]
    }
   ],
   "source": [
    "import import_ipynb\n",
    "import lstm\n",
    "from lstm import *"
   ]
  },
  {
   "cell_type": "code",
   "execution_count": 13,
   "metadata": {},
   "outputs": [
    {
     "name": "stderr",
     "output_type": "stream",
     "text": [
      "/anaconda3/lib/python3.7/site-packages/sklearn/utils/validation.py:595: DataConversionWarning: Data with input dtype int64 was converted to float64 by MinMaxScaler.\n",
      "  warnings.warn(msg, DataConversionWarning)\n"
     ]
    }
   ],
   "source": [
    "initial_val=([100],[100],[100],[100],[100],[100])  #20 or whatever is initial investment\n",
    "initial_val=np.asarray(initial_val)\n",
    "\n",
    "\n",
    "predictions=[]\n",
    "\n",
    "i=0\n",
    "while ( i <30):\n",
    "    \n",
    "    initial_val1=scale.fit_transform(initial_val)\n",
    "    p1,p2=lstm_dataset(initial_val1, timestep=5)\n",
    "    p_val1=new_model1.predict(p1)\n",
    "    new_pval = scale.inverse_transform(p_val1)\n",
    "    predictions=np.append(predictions,new_pval)\n",
    "    intial_val=np.append(initial_val,[new_pval])\n",
    "    initial_val=intial_val.reshape(-1,1)\n",
    "    initial_val= initial_val[1:]\n",
    "    initial_val=np.asarray(initial_val)\n",
    "    i=i+1\n",
    "    "
   ]
  },
  {
   "cell_type": "code",
   "execution_count": 14,
   "metadata": {},
   "outputs": [
    {
     "data": {
      "text/plain": [
       "array([100.12982178, 100.01685333, 100.02814484, 100.03775024,\n",
       "       100.04530334, 100.05207825, 100.05966187, 100.03599548,\n",
       "       100.04389191, 100.0478363 , 100.04904938, 100.0489502 ,\n",
       "       100.04790497, 100.04478455, 100.04750824, 100.04804993,\n",
       "       100.04780579, 100.04745483, 100.04711914, 100.04709625,\n",
       "       100.04767609, 100.04759979, 100.04743958, 100.04737091,\n",
       "       100.0473938 , 100.04746246, 100.0475235 , 100.04747009,\n",
       "       100.04743958, 100.0474472 ])"
      ]
     },
     "execution_count": 14,
     "metadata": {},
     "output_type": "execute_result"
    }
   ],
   "source": [
    "predictions"
   ]
  },
  {
   "cell_type": "code",
   "execution_count": 16,
   "metadata": {},
   "outputs": [
    {
     "name": "stderr",
     "output_type": "stream",
     "text": [
      "/anaconda3/lib/python3.7/site-packages/sklearn/utils/validation.py:595: DataConversionWarning: Data with input dtype int64 was converted to float64 by MinMaxScaler.\n",
      "  warnings.warn(msg, DataConversionWarning)\n"
     ]
    }
   ],
   "source": [
    "initial_val=([100],[100],[100],[100],[100],[100])  #20 or whatever is initial investment\n",
    "initial_val=np.asarray(initial_val)\n",
    "\n",
    "\n",
    "predictions=[]\n",
    "\n",
    "i=0\n",
    "while ( i <30):\n",
    "    \n",
    "    initial_val1=scale.fit_transform(initial_val)\n",
    "    p1,p2=lstm_dataset(initial_val1, timestep=5)\n",
    "    p_val1=new_model2.predict(p1)\n",
    "    new_pval = scale.inverse_transform(p_val1)\n",
    "    predictions=np.append(predictions,new_pval)\n",
    "    intial_val=np.append(initial_val,[new_pval])\n",
    "    initial_val=intial_val.reshape(-1,1)\n",
    "    initial_val= initial_val[1:]\n",
    "    initial_val=np.asarray(initial_val)\n",
    "    i=i+1"
   ]
  },
  {
   "cell_type": "code",
   "execution_count": 17,
   "metadata": {},
   "outputs": [
    {
     "data": {
      "text/plain": [
       "array([100.12821198, 100.01643372, 100.02584839, 100.03623199,\n",
       "       100.04380798, 100.05043793, 100.05801392, 100.03401947,\n",
       "       100.04171753, 100.04603577, 100.04721832, 100.04701996,\n",
       "       100.04589844, 100.04268646, 100.04550934, 100.04611969,\n",
       "       100.04584503, 100.04542542, 100.04508972, 100.04506683,\n",
       "       100.04569244, 100.04561615, 100.04544067, 100.04535675,\n",
       "       100.04537964, 100.04545593, 100.0455246 , 100.04546356,\n",
       "       100.04542542, 100.04543304])"
      ]
     },
     "execution_count": 17,
     "metadata": {},
     "output_type": "execute_result"
    }
   ],
   "source": [
    "predictions"
   ]
  },
  {
   "cell_type": "code",
   "execution_count": null,
   "metadata": {},
   "outputs": [],
   "source": []
  }
 ],
 "metadata": {
  "kernelspec": {
   "display_name": "Python 3",
   "language": "python",
   "name": "python3"
  },
  "language_info": {
   "codemirror_mode": {
    "name": "ipython",
    "version": 3
   },
   "file_extension": ".py",
   "mimetype": "text/x-python",
   "name": "python",
   "nbconvert_exporter": "python",
   "pygments_lexer": "ipython3",
   "version": "3.7.5"
  }
 },
 "nbformat": 4,
 "nbformat_minor": 2
}
